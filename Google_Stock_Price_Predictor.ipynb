{
  "nbformat": 4,
  "nbformat_minor": 0,
  "metadata": {
    "colab": {
      "name": "Google Stock Price Predictor",
      "provenance": [],
      "collapsed_sections": []
    },
    "kernelspec": {
      "name": "python3",
      "display_name": "Python 3"
    }
  },
  "cells": [
    {
      "cell_type": "markdown",
      "metadata": {
        "id": "urD9hnFUxxbw",
        "colab_type": "text"
      },
      "source": [
        "**Classic** **stock** predictor with **timestep** variable. Default = 60\n"
      ]
    },
    {
      "cell_type": "code",
      "metadata": {
        "id": "lPdBxg4IxILS",
        "colab_type": "code",
        "colab": {}
      },
      "source": [
        "timesteps = 120"
      ],
      "execution_count": null,
      "outputs": []
    },
    {
      "cell_type": "code",
      "metadata": {
        "id": "J0BajP8J7s9Z",
        "colab_type": "code",
        "colab": {
          "base_uri": "https://localhost:8080/",
          "height": 217
        },
        "outputId": "27a66495-7a3a-47d3-85f6-75e34b734e5b"
      },
      "source": [
        "!wget https://sds-platform-private.s3-us-east-2.amazonaws.com/uploads/P16-Recurrent-Neural-Networks.zip"
      ],
      "execution_count": null,
      "outputs": [
        {
          "output_type": "stream",
          "text": [
            "--2020-06-09 15:49:47--  https://sds-platform-private.s3-us-east-2.amazonaws.com/uploads/P16-Recurrent-Neural-Networks.zip\n",
            "Resolving sds-platform-private.s3-us-east-2.amazonaws.com (sds-platform-private.s3-us-east-2.amazonaws.com)... 52.219.96.208\n",
            "Connecting to sds-platform-private.s3-us-east-2.amazonaws.com (sds-platform-private.s3-us-east-2.amazonaws.com)|52.219.96.208|:443... connected.\n",
            "HTTP request sent, awaiting response... 200 OK\n",
            "Length: 51569 (50K) [application/zip]\n",
            "Saving to: ‘P16-Recurrent-Neural-Networks.zip.2’\n",
            "\n",
            "\r          P16-Recur   0%[                    ]       0  --.-KB/s               \rP16-Recurrent-Neura 100%[===================>]  50.36K  --.-KB/s    in 0.1s    \n",
            "\n",
            "2020-06-09 15:49:47 (484 KB/s) - ‘P16-Recurrent-Neural-Networks.zip.2’ saved [51569/51569]\n",
            "\n"
          ],
          "name": "stdout"
        }
      ]
    },
    {
      "cell_type": "code",
      "metadata": {
        "id": "xIZku9xM7xt-",
        "colab_type": "code",
        "colab": {
          "base_uri": "https://localhost:8080/",
          "height": 72
        },
        "outputId": "6107476e-748c-4a4e-b0e2-addcfa9762bc"
      },
      "source": [
        "!unzip P16-Recurrent-Neural-Networks.zip"
      ],
      "execution_count": null,
      "outputs": [
        {
          "output_type": "stream",
          "text": [
            "Archive:  P16-Recurrent-Neural-Networks.zip\n",
            "replace __MACOSX/._Part 3 - Recurrent Neural Networks? [y]es, [n]o, [A]ll, [N]one, [r]ename: n\n",
            "replace Part 3 - Recurrent Neural Networks/Google_Stock_Price_Train.csv? [y]es, [n]o, [A]ll, [N]one, [r]ename: N\n"
          ],
          "name": "stdout"
        }
      ]
    },
    {
      "cell_type": "code",
      "metadata": {
        "id": "ftJCFwuY8qye",
        "colab_type": "code",
        "colab": {}
      },
      "source": [
        "import numpy as np\n",
        "import matplotlib.pyplot as plt\n",
        "import pandas as pd"
      ],
      "execution_count": null,
      "outputs": []
    },
    {
      "cell_type": "code",
      "metadata": {
        "id": "ZjgOgHlw_xmt",
        "colab_type": "code",
        "colab": {}
      },
      "source": [
        "dataset_train = pd.read_csv('/content/Part 3 - Recurrent Neural Networks/Google_Stock_Price_Train.csv')"
      ],
      "execution_count": null,
      "outputs": []
    },
    {
      "cell_type": "code",
      "metadata": {
        "id": "CWmKreNM__G-",
        "colab_type": "code",
        "colab": {}
      },
      "source": [
        "  training_set = dataset_train.iloc[:,1:2].values"
      ],
      "execution_count": null,
      "outputs": []
    },
    {
      "cell_type": "code",
      "metadata": {
        "id": "_xlxEQtzAJGT",
        "colab_type": "code",
        "colab": {
          "base_uri": "https://localhost:8080/",
          "height": 144
        },
        "outputId": "248b43c3-7221-4212-8fd1-e19db1495961"
      },
      "source": [
        "print((training_set))"
      ],
      "execution_count": null,
      "outputs": [
        {
          "output_type": "stream",
          "text": [
            "[[325.25]\n",
            " [331.27]\n",
            " [329.83]\n",
            " ...\n",
            " [793.7 ]\n",
            " [783.33]\n",
            " [782.75]]\n"
          ],
          "name": "stdout"
        }
      ]
    },
    {
      "cell_type": "code",
      "metadata": {
        "id": "L7RHaWttARO8",
        "colab_type": "code",
        "colab": {}
      },
      "source": [
        "#feature scaling"
      ],
      "execution_count": null,
      "outputs": []
    },
    {
      "cell_type": "code",
      "metadata": {
        "id": "ZJbmGxTLBCaB",
        "colab_type": "code",
        "colab": {}
      },
      "source": [
        "from sklearn.preprocessing import MinMaxScaler"
      ],
      "execution_count": null,
      "outputs": []
    },
    {
      "cell_type": "code",
      "metadata": {
        "id": "iOFdk6eRBIcS",
        "colab_type": "code",
        "colab": {}
      },
      "source": [
        "sc = MinMaxScaler(feature_range=(0,1))\n",
        "\n",
        "training_set_scaled = sc.fit_transform(training_set)\n"
      ],
      "execution_count": null,
      "outputs": []
    },
    {
      "cell_type": "code",
      "metadata": {
        "id": "M8700l5JB4JF",
        "colab_type": "code",
        "colab": {
          "base_uri": "https://localhost:8080/",
          "height": 144
        },
        "outputId": "6069207d-0276-4005-9a91-4305a1ce1d1e"
      },
      "source": [
        "print(training_set_scaled)"
      ],
      "execution_count": null,
      "outputs": [
        {
          "output_type": "stream",
          "text": [
            "[[0.08581368]\n",
            " [0.09701243]\n",
            " [0.09433366]\n",
            " ...\n",
            " [0.95725128]\n",
            " [0.93796041]\n",
            " [0.93688146]]\n"
          ],
          "name": "stdout"
        }
      ]
    },
    {
      "cell_type": "code",
      "metadata": {
        "id": "piD336j7B71w",
        "colab_type": "code",
        "colab": {}
      },
      "source": [
        "X_train = []\n",
        "y_train = []\n",
        "\n",
        "for i in range(timesteps,1258):\n",
        "  X_train.append(training_set_scaled[i-timesteps:i,0])\n",
        "  y_train.append(training_set_scaled[i,0])\n",
        "\n",
        "X_train, y_train = np.array(X_train),np.array(y_train)\n",
        "\n"
      ],
      "execution_count": null,
      "outputs": []
    },
    {
      "cell_type": "code",
      "metadata": {
        "id": "VDL42yTgIJ5m",
        "colab_type": "code",
        "colab": {
          "base_uri": "https://localhost:8080/",
          "height": 53
        },
        "outputId": "39054ea4-03db-4f01-99ca-93d2f541e39d"
      },
      "source": [
        "print(np.shape(X_train))\n",
        "print(np.shape(y_train))"
      ],
      "execution_count": null,
      "outputs": [
        {
          "output_type": "stream",
          "text": [
            "(1138, 120)\n",
            "(1138,)\n"
          ],
          "name": "stdout"
        }
      ]
    },
    {
      "cell_type": "code",
      "metadata": {
        "id": "WPJKM9rySljd",
        "colab_type": "code",
        "colab": {}
      },
      "source": [
        "X_train = np.reshape(X_train,(X_train.shape[0],X_train.shape[1],1))"
      ],
      "execution_count": null,
      "outputs": []
    },
    {
      "cell_type": "code",
      "metadata": {
        "id": "sgxP4RakS7BH",
        "colab_type": "code",
        "colab": {
          "base_uri": "https://localhost:8080/",
          "height": 35
        },
        "outputId": "819f44c5-28eb-4672-bde9-9062c2c8fe17"
      },
      "source": [
        "print(np.shape(X_train))"
      ],
      "execution_count": null,
      "outputs": [
        {
          "output_type": "stream",
          "text": [
            "(1138, 120, 1)\n"
          ],
          "name": "stdout"
        }
      ]
    },
    {
      "cell_type": "code",
      "metadata": {
        "id": "p67T9Iw_dBdn",
        "colab_type": "code",
        "colab": {}
      },
      "source": [
        "import keras\n",
        "from keras.models import Sequential\n",
        "from keras.layers import Dense\n",
        "from keras.layers import LSTM\n",
        "from keras.layers import Dropout  "
      ],
      "execution_count": null,
      "outputs": []
    },
    {
      "cell_type": "code",
      "metadata": {
        "id": "FwhNUQl4ddou",
        "colab_type": "code",
        "colab": {}
      },
      "source": [
        "regressor = Sequential()"
      ],
      "execution_count": null,
      "outputs": []
    },
    {
      "cell_type": "code",
      "metadata": {
        "id": "QC79ZpgCTDP1",
        "colab_type": "code",
        "colab": {}
      },
      "source": [
        "regressor.add(LSTM(units=50,return_sequences=True, input_shape=(X_train.shape[1],1)))\n",
        "regressor.add(Dropout(0.2))"
      ],
      "execution_count": null,
      "outputs": []
    },
    {
      "cell_type": "code",
      "metadata": {
        "id": "ECj6z9MeVULA",
        "colab_type": "code",
        "colab": {}
      },
      "source": [
        "regressor.add(LSTM(units=50,return_sequences=True))\n",
        "regressor.add(Dropout(0.2))\n",
        "\n",
        "regressor.add(LSTM(units=50,return_sequences=True))\n",
        "regressor.add(Dropout(0.2))\n",
        "\n",
        "regressor.add(LSTM(units=50))\n",
        "regressor.add(Dropout(0.2)) #4th LSTM layer"
      ],
      "execution_count": null,
      "outputs": []
    },
    {
      "cell_type": "code",
      "metadata": {
        "id": "BmUf3LJDV_JD",
        "colab_type": "code",
        "colab": {}
      },
      "source": [
        "regressor.add(Dense(1))"
      ],
      "execution_count": null,
      "outputs": []
    },
    {
      "cell_type": "code",
      "metadata": {
        "id": "RtIXHMWtXUd8",
        "colab_type": "code",
        "colab": {}
      },
      "source": [
        "regressor.compile(optimizer='adam',loss= 'mse')"
      ],
      "execution_count": null,
      "outputs": []
    },
    {
      "cell_type": "code",
      "metadata": {
        "id": "h1f6RtMxYq6D",
        "colab_type": "code",
        "colab": {
          "base_uri": "https://localhost:8080/",
          "height": 1000
        },
        "outputId": "3353102f-ce6e-4da8-d962-efad13124a70"
      },
      "source": [
        "regressor.fit(X_train,y_train,epochs=100,verbose=1,batch_size=32)"
      ],
      "execution_count": null,
      "outputs": [
        {
          "output_type": "stream",
          "text": [
            "Epoch 1/100\n",
            "1138/1138 [==============================] - 12s 11ms/step - loss: 0.0486\n",
            "Epoch 2/100\n",
            "1138/1138 [==============================] - 10s 9ms/step - loss: 0.0066\n",
            "Epoch 3/100\n",
            "1138/1138 [==============================] - 10s 9ms/step - loss: 0.0054\n",
            "Epoch 4/100\n",
            "1138/1138 [==============================] - 10s 9ms/step - loss: 0.0051\n",
            "Epoch 5/100\n",
            "1138/1138 [==============================] - 10s 9ms/step - loss: 0.0051\n",
            "Epoch 6/100\n",
            "1138/1138 [==============================] - 11s 9ms/step - loss: 0.0055\n",
            "Epoch 7/100\n",
            "1138/1138 [==============================] - 10s 9ms/step - loss: 0.0048\n",
            "Epoch 8/100\n",
            "1138/1138 [==============================] - 10s 9ms/step - loss: 0.0045\n",
            "Epoch 9/100\n",
            "1138/1138 [==============================] - 11s 9ms/step - loss: 0.0050\n",
            "Epoch 10/100\n",
            "1138/1138 [==============================] - 11s 9ms/step - loss: 0.0047\n",
            "Epoch 11/100\n",
            "1138/1138 [==============================] - 10s 9ms/step - loss: 0.0043\n",
            "Epoch 12/100\n",
            "1138/1138 [==============================] - 11s 9ms/step - loss: 0.0042\n",
            "Epoch 13/100\n",
            "1138/1138 [==============================] - 11s 9ms/step - loss: 0.0047\n",
            "Epoch 14/100\n",
            "1138/1138 [==============================] - 11s 9ms/step - loss: 0.0040\n",
            "Epoch 15/100\n",
            "1138/1138 [==============================] - 10s 9ms/step - loss: 0.0043\n",
            "Epoch 16/100\n",
            "1138/1138 [==============================] - 10s 9ms/step - loss: 0.0041\n",
            "Epoch 17/100\n",
            "1138/1138 [==============================] - 11s 9ms/step - loss: 0.0042\n",
            "Epoch 18/100\n",
            "1138/1138 [==============================] - 11s 9ms/step - loss: 0.0040\n",
            "Epoch 19/100\n",
            "1138/1138 [==============================] - 10s 9ms/step - loss: 0.0040\n",
            "Epoch 20/100\n",
            "1138/1138 [==============================] - 11s 9ms/step - loss: 0.0034\n",
            "Epoch 21/100\n",
            "1138/1138 [==============================] - 10s 9ms/step - loss: 0.0041\n",
            "Epoch 22/100\n",
            "1138/1138 [==============================] - 11s 9ms/step - loss: 0.0036\n",
            "Epoch 23/100\n",
            "1138/1138 [==============================] - 11s 9ms/step - loss: 0.0038\n",
            "Epoch 24/100\n",
            "1138/1138 [==============================] - 11s 10ms/step - loss: 0.0037\n",
            "Epoch 25/100\n",
            "1138/1138 [==============================] - 11s 10ms/step - loss: 0.0034\n",
            "Epoch 26/100\n",
            "1138/1138 [==============================] - 10s 9ms/step - loss: 0.0033\n",
            "Epoch 27/100\n",
            "1138/1138 [==============================] - 10s 9ms/step - loss: 0.0039\n",
            "Epoch 28/100\n",
            "1138/1138 [==============================] - 10s 9ms/step - loss: 0.0033\n",
            "Epoch 29/100\n",
            "1138/1138 [==============================] - 11s 9ms/step - loss: 0.0031\n",
            "Epoch 30/100\n",
            "1138/1138 [==============================] - 10s 9ms/step - loss: 0.0030\n",
            "Epoch 31/100\n",
            "1138/1138 [==============================] - 10s 9ms/step - loss: 0.0033\n",
            "Epoch 32/100\n",
            "1138/1138 [==============================] - 10s 9ms/step - loss: 0.0032\n",
            "Epoch 33/100\n",
            "1138/1138 [==============================] - 10s 9ms/step - loss: 0.0035\n",
            "Epoch 34/100\n",
            "1138/1138 [==============================] - 11s 9ms/step - loss: 0.0030\n",
            "Epoch 35/100\n",
            "1138/1138 [==============================] - 11s 10ms/step - loss: 0.0029\n",
            "Epoch 36/100\n",
            "1138/1138 [==============================] - 11s 10ms/step - loss: 0.0034\n",
            "Epoch 37/100\n",
            "1138/1138 [==============================] - 11s 9ms/step - loss: 0.0031\n",
            "Epoch 38/100\n",
            "1138/1138 [==============================] - 10s 9ms/step - loss: 0.0027\n",
            "Epoch 39/100\n",
            "1138/1138 [==============================] - 11s 9ms/step - loss: 0.0031\n",
            "Epoch 40/100\n",
            "1138/1138 [==============================] - 11s 9ms/step - loss: 0.0030\n",
            "Epoch 41/100\n",
            "1138/1138 [==============================] - 11s 9ms/step - loss: 0.0030\n",
            "Epoch 42/100\n",
            "1138/1138 [==============================] - 10s 9ms/step - loss: 0.0028\n",
            "Epoch 43/100\n",
            "1138/1138 [==============================] - 11s 9ms/step - loss: 0.0028\n",
            "Epoch 44/100\n",
            "1138/1138 [==============================] - 11s 9ms/step - loss: 0.0029\n",
            "Epoch 45/100\n",
            "1138/1138 [==============================] - 11s 9ms/step - loss: 0.0035\n",
            "Epoch 46/100\n",
            "1138/1138 [==============================] - 11s 9ms/step - loss: 0.0025\n",
            "Epoch 47/100\n",
            "1138/1138 [==============================] - 11s 9ms/step - loss: 0.0024\n",
            "Epoch 48/100\n",
            "1138/1138 [==============================] - 11s 10ms/step - loss: 0.0027\n",
            "Epoch 49/100\n",
            "1138/1138 [==============================] - 11s 9ms/step - loss: 0.0026\n",
            "Epoch 50/100\n",
            "1138/1138 [==============================] - 11s 9ms/step - loss: 0.0028\n",
            "Epoch 51/100\n",
            "1138/1138 [==============================] - 11s 9ms/step - loss: 0.0025\n",
            "Epoch 52/100\n",
            "1138/1138 [==============================] - 11s 9ms/step - loss: 0.0025\n",
            "Epoch 53/100\n",
            "1138/1138 [==============================] - 11s 9ms/step - loss: 0.0025\n",
            "Epoch 54/100\n",
            "1138/1138 [==============================] - 11s 9ms/step - loss: 0.0027\n",
            "Epoch 55/100\n",
            "1138/1138 [==============================] - 11s 10ms/step - loss: 0.0024\n",
            "Epoch 56/100\n",
            "1138/1138 [==============================] - 11s 9ms/step - loss: 0.0026\n",
            "Epoch 57/100\n",
            "1138/1138 [==============================] - 11s 9ms/step - loss: 0.0024\n",
            "Epoch 58/100\n",
            "1138/1138 [==============================] - 11s 9ms/step - loss: 0.0023\n",
            "Epoch 59/100\n",
            "1138/1138 [==============================] - 11s 9ms/step - loss: 0.0024\n",
            "Epoch 60/100\n",
            "1138/1138 [==============================] - 11s 9ms/step - loss: 0.0024\n",
            "Epoch 61/100\n",
            "1138/1138 [==============================] - 11s 10ms/step - loss: 0.0023\n",
            "Epoch 62/100\n",
            "1138/1138 [==============================] - 11s 10ms/step - loss: 0.0024\n",
            "Epoch 63/100\n",
            "1138/1138 [==============================] - 11s 9ms/step - loss: 0.0022\n",
            "Epoch 64/100\n",
            "1138/1138 [==============================] - 11s 10ms/step - loss: 0.0021\n",
            "Epoch 65/100\n",
            "1138/1138 [==============================] - 11s 10ms/step - loss: 0.0025\n",
            "Epoch 66/100\n",
            "1138/1138 [==============================] - 11s 9ms/step - loss: 0.0024\n",
            "Epoch 67/100\n",
            "1138/1138 [==============================] - 11s 9ms/step - loss: 0.0023\n",
            "Epoch 68/100\n",
            "1138/1138 [==============================] - 11s 9ms/step - loss: 0.0023\n",
            "Epoch 69/100\n",
            "1138/1138 [==============================] - 11s 9ms/step - loss: 0.0025\n",
            "Epoch 70/100\n",
            "1138/1138 [==============================] - 11s 10ms/step - loss: 0.0023\n",
            "Epoch 71/100\n",
            "1138/1138 [==============================] - 11s 9ms/step - loss: 0.0022\n",
            "Epoch 72/100\n",
            "1138/1138 [==============================] - 11s 9ms/step - loss: 0.0023\n",
            "Epoch 73/100\n",
            "1138/1138 [==============================] - 11s 10ms/step - loss: 0.0022\n",
            "Epoch 74/100\n",
            "1138/1138 [==============================] - 11s 9ms/step - loss: 0.0021\n",
            "Epoch 75/100\n",
            "1138/1138 [==============================] - 11s 9ms/step - loss: 0.0019\n",
            "Epoch 76/100\n",
            "1138/1138 [==============================] - 10s 9ms/step - loss: 0.0020\n",
            "Epoch 77/100\n",
            "1138/1138 [==============================] - 10s 9ms/step - loss: 0.0021\n",
            "Epoch 78/100\n",
            "1138/1138 [==============================] - 10s 9ms/step - loss: 0.0020\n",
            "Epoch 79/100\n",
            "1138/1138 [==============================] - 10s 9ms/step - loss: 0.0019\n",
            "Epoch 80/100\n",
            "1138/1138 [==============================] - 11s 9ms/step - loss: 0.0019\n",
            "Epoch 81/100\n",
            "1138/1138 [==============================] - 11s 9ms/step - loss: 0.0019\n",
            "Epoch 82/100\n",
            "1138/1138 [==============================] - 10s 9ms/step - loss: 0.0019\n",
            "Epoch 83/100\n",
            "1138/1138 [==============================] - 10s 9ms/step - loss: 0.0018\n",
            "Epoch 84/100\n",
            "1138/1138 [==============================] - 10s 9ms/step - loss: 0.0018\n",
            "Epoch 85/100\n",
            "1138/1138 [==============================] - 10s 9ms/step - loss: 0.0017\n",
            "Epoch 86/100\n",
            "1138/1138 [==============================] - 10s 9ms/step - loss: 0.0017\n",
            "Epoch 87/100\n",
            "1138/1138 [==============================] - 10s 9ms/step - loss: 0.0019\n",
            "Epoch 88/100\n",
            "1138/1138 [==============================] - 10s 9ms/step - loss: 0.0017\n",
            "Epoch 89/100\n",
            "1138/1138 [==============================] - 10s 9ms/step - loss: 0.0017\n",
            "Epoch 90/100\n",
            "1138/1138 [==============================] - 11s 9ms/step - loss: 0.0018\n",
            "Epoch 91/100\n",
            "1138/1138 [==============================] - 10s 9ms/step - loss: 0.0017\n",
            "Epoch 92/100\n",
            "1138/1138 [==============================] - 10s 9ms/step - loss: 0.0016\n",
            "Epoch 93/100\n",
            "1138/1138 [==============================] - 10s 9ms/step - loss: 0.0017\n",
            "Epoch 94/100\n",
            "1138/1138 [==============================] - 11s 9ms/step - loss: 0.0016\n",
            "Epoch 95/100\n",
            "1138/1138 [==============================] - 10s 9ms/step - loss: 0.0017\n",
            "Epoch 96/100\n",
            "1138/1138 [==============================] - 10s 9ms/step - loss: 0.0015\n",
            "Epoch 97/100\n",
            "1138/1138 [==============================] - 10s 9ms/step - loss: 0.0016\n",
            "Epoch 98/100\n",
            "1138/1138 [==============================] - 10s 9ms/step - loss: 0.0016\n",
            "Epoch 99/100\n",
            "1138/1138 [==============================] - 10s 9ms/step - loss: 0.0015\n",
            "Epoch 100/100\n",
            "1138/1138 [==============================] - 10s 9ms/step - loss: 0.0015\n"
          ],
          "name": "stdout"
        },
        {
          "output_type": "execute_result",
          "data": {
            "text/plain": [
              "<keras.callbacks.callbacks.History at 0x7ff4f61da748>"
            ]
          },
          "metadata": {
            "tags": []
          },
          "execution_count": 63
        }
      ]
    },
    {
      "cell_type": "code",
      "metadata": {
        "id": "5pnp5Kq2ZyeF",
        "colab_type": "code",
        "colab": {}
      },
      "source": [
        "dataset_test = pd.read_csv('/content/Part 3 - Recurrent Neural Networks/Google_Stock_Price_Test.csv')"
      ],
      "execution_count": null,
      "outputs": []
    },
    {
      "cell_type": "code",
      "metadata": {
        "id": "g_55jfR1eKgD",
        "colab_type": "code",
        "colab": {}
      },
      "source": [
        "real_stock_price = dataset_test.iloc[:,1:2].values"
      ],
      "execution_count": null,
      "outputs": []
    },
    {
      "cell_type": "code",
      "metadata": {
        "id": "TaRji8E6eV7N",
        "colab_type": "code",
        "colab": {
          "base_uri": "https://localhost:8080/",
          "height": 380
        },
        "outputId": "06d10b65-8f6e-4864-880c-71cd3d408a4d"
      },
      "source": [
        "print(real_stock_price)"
      ],
      "execution_count": null,
      "outputs": [
        {
          "output_type": "stream",
          "text": [
            "[[778.81]\n",
            " [788.36]\n",
            " [786.08]\n",
            " [795.26]\n",
            " [806.4 ]\n",
            " [807.86]\n",
            " [805.  ]\n",
            " [807.14]\n",
            " [807.48]\n",
            " [807.08]\n",
            " [805.81]\n",
            " [805.12]\n",
            " [806.91]\n",
            " [807.25]\n",
            " [822.3 ]\n",
            " [829.62]\n",
            " [837.81]\n",
            " [834.71]\n",
            " [814.66]\n",
            " [796.86]]\n"
          ],
          "name": "stdout"
        }
      ]
    },
    {
      "cell_type": "code",
      "metadata": {
        "id": "XjEFF5V3eZ0v",
        "colab_type": "code",
        "colab": {}
      },
      "source": [
        "dataset_total = pd.concat((dataset_train['Open'],dataset_test['Open']),axis=0)"
      ],
      "execution_count": null,
      "outputs": []
    },
    {
      "cell_type": "code",
      "metadata": {
        "id": "HacnIhGkbJJc",
        "colab_type": "code",
        "colab": {}
      },
      "source": [
        "inputs = dataset_total[len(dataset_train)- len(dataset_test)-timesteps:].values"
      ],
      "execution_count": null,
      "outputs": []
    },
    {
      "cell_type": "code",
      "metadata": {
        "id": "vJpx_KRillnR",
        "colab_type": "code",
        "colab": {}
      },
      "source": [
        "inputs = inputs.reshape(-1,1)\n"
      ],
      "execution_count": null,
      "outputs": []
    },
    {
      "cell_type": "code",
      "metadata": {
        "id": "LBsbQU8smEMj",
        "colab_type": "code",
        "colab": {}
      },
      "source": [
        "inputs = sc.transform(inputs)"
      ],
      "execution_count": null,
      "outputs": []
    },
    {
      "cell_type": "code",
      "metadata": {
        "id": "D_dc3LtYmlYX",
        "colab_type": "code",
        "colab": {}
      },
      "source": [
        "X_test = []\n",
        "\n",
        "\n",
        "for i in range(timesteps,timesteps+20):\n",
        "  X_test.append(inputs[i-timesteps:i,0])\n",
        "  \n",
        "\n",
        "X_test = np.array(X_test)\n",
        "\n",
        "\n"
      ],
      "execution_count": null,
      "outputs": []
    },
    {
      "cell_type": "code",
      "metadata": {
        "id": "1bnomTwKnkLM",
        "colab_type": "code",
        "colab": {}
      },
      "source": [
        "X_test = np.reshape(X_test,(X_test.shape[0],X_test.shape[1],1))"
      ],
      "execution_count": null,
      "outputs": []
    },
    {
      "cell_type": "code",
      "metadata": {
        "id": "oOW1oyccofRP",
        "colab_type": "code",
        "colab": {}
      },
      "source": [
        "predicted_stock_price = regressor.predict(X_test)"
      ],
      "execution_count": null,
      "outputs": []
    },
    {
      "cell_type": "code",
      "metadata": {
        "id": "nMkMHftSo_m-",
        "colab_type": "code",
        "colab": {}
      },
      "source": [
        "predicted_stock_price = sc.inverse_transform(predicted_stock_price)"
      ],
      "execution_count": null,
      "outputs": []
    },
    {
      "cell_type": "code",
      "metadata": {
        "id": "CxTbsrK-p2ka",
        "colab_type": "code",
        "colab": {
          "base_uri": "https://localhost:8080/",
          "height": 380
        },
        "outputId": "8c277ab0-93c5-4c59-c1f1-25438cf9d7b1"
      },
      "source": [
        "predicted_stock_price"
      ],
      "execution_count": null,
      "outputs": [
        {
          "output_type": "execute_result",
          "data": {
            "text/plain": [
              "array([[747.04987],\n",
              "       [743.2926 ],\n",
              "       [739.8966 ],\n",
              "       [739.17255],\n",
              "       [740.2913 ],\n",
              "       [743.5465 ],\n",
              "       [748.6127 ],\n",
              "       [754.4058 ],\n",
              "       [760.46857],\n",
              "       [765.91095],\n",
              "       [769.7091 ],\n",
              "       [772.0369 ],\n",
              "       [771.7399 ],\n",
              "       [770.6953 ],\n",
              "       [769.8648 ],\n",
              "       [769.1538 ],\n",
              "       [768.50977],\n",
              "       [768.0954 ],\n",
              "       [768.4604 ],\n",
              "       [767.9911 ]], dtype=float32)"
            ]
          },
          "metadata": {
            "tags": []
          },
          "execution_count": 78
        }
      ]
    },
    {
      "cell_type": "code",
      "metadata": {
        "id": "9r6ja_RUp6nJ",
        "colab_type": "code",
        "colab": {
          "base_uri": "https://localhost:8080/",
          "height": 265
        },
        "outputId": "88af9865-02d9-4215-8682-b19823b95c00"
      },
      "source": [
        "plt.plot(real_stock_price,color='red',label='Original stock price')\n",
        "plt.plot(predicted_stock_price,color='yellow',label='Predicted stock price')\n",
        "plt.legend()\n",
        "plt.show()"
      ],
      "execution_count": null,
      "outputs": [
        {
          "output_type": "display_data",
          "data": {
            "image/png": "[encoded data removed]",
            "text/plain": [
              "<Figure size 432x288 with 1 Axes>"
            ]
          },
          "metadata": {
            "tags": [],
            "needs_background": "light"
          }
        }
      ]
    },
    {
      "cell_type": "code",
      "metadata": {
        "id": "filvVCHkrESF",
        "colab_type": "code",
        "colab": {}
      },
      "source": [
        ""
      ],
      "execution_count": null,
      "outputs": []
    }
  ]
}